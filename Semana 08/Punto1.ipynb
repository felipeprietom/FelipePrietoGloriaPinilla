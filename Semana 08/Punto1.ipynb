{
 "cells": [
  {
   "cell_type": "code",
   "execution_count": 1,
   "id": "599c1c53",
   "metadata": {},
   "outputs": [],
   "source": [
    "%matplotlib notebook\n",
    "import numpy as np\n",
    "import matplotlib.pyplot as plt\n",
    "from matplotlib import rc\n",
    "from mpl_toolkits.mplot3d import axes3d\n",
    "from matplotlib import cm\n",
    "import matplotlib as mpl\n",
    "from tqdm import tqdm"
   ]
  },
  {
   "cell_type": "code",
   "execution_count": null,
   "id": "216e552a",
   "metadata": {},
   "outputs": [],
   "source": [
    "Min, Max, N = 0.,40.,101 #Las condiciones en clase fueron modificadas varias veces\n",
    "x = np.linspace(Min,Max,N)\n",
    "y = x.copy()\n",
    "h = x[1]-x[0]\n",
    "\n",
    "#Condiciones de Frontera\n",
    "h1 = lambda y: 100.\n",
    "h2 = lambda y: 50.\n",
    "h3 = lambda x: 10.\n",
    "h4 = lambda x: 0.\n",
    "\n",
    "def InitT(h1, h2, h3, h4):\n",
    "    T = np.zeros((N,N))\n",
    "    T[0,:] = h1(y)\n",
    "    T[-1,:] = h2(y)\n",
    "    T[:,0] = h3(x)\n",
    "    T[:,-1] = h4(x)\n",
    "    return T\n",
    "\n",
    "def GetRelaxation(T, Nit = int(1e5), omega = 1.9, tolerancia = 1e-2):\n",
    "    itmax = 0\n",
    "    for it in (range(Nit)):\n",
    "        dmax = 0.\n",
    "        for i in range(1, len(x)-1):\n",
    "            for j in range(1, len(y)-1):\n",
    "                tmp = 0.25*(T[i+1,j]+T[i-1,j]+T[i,j+1]+T[i,j-1])\n",
    "                r = omega*(tmp - T[i,j])\n",
    "                T[i,j] += r\n",
    "                if np.abs(r) > dmax:\n",
    "                    dmax = r\n",
    "        if np.abs(dmax) < tolerancia:\n",
    "            itmax = it\n",
    "            break\n",
    "    return itmax #Dado que en este caso solo nos interesa el número de iteraciones es lo único que se devuelve\n",
    "\n"
   ]
  },
  {
   "cell_type": "code",
   "execution_count": null,
   "id": "e46326cb",
   "metadata": {
    "scrolled": true
   },
   "outputs": [],
   "source": [
    "omegas = np.linspace(0.99, 1.85, 20) #Tomamos 20 valores distintos de omega\n",
    "\n",
    "itmaxomegas = np.copy(omegas)\n",
    "T0 = InitT(h1, h2, h3, h4)\n",
    "for i in range(len(omegas)):\n",
    "    T = np.copy(T0)\n",
    "    itmaxomegas[i] = GetRelaxation(T, omega = omegas[i])"
   ]
  },
  {
   "cell_type": "code",
   "execution_count": null,
   "id": "1f42fa0a",
   "metadata": {},
   "outputs": [],
   "source": [
    "plt.figure(figsize=(7,7))\n",
    "plt.plot(omegas, itmaxomegas)\n",
    "plt.title(\"Optimization of Over-relaxation Method\")\n",
    "plt.ylabel(\"Iterations\")\n",
    "plt.xlabel(\"$\\omega$\")\n",
    "plt.grid()\n",
    "\n"
   ]
  }
 ],
 "metadata": {
  "kernelspec": {
   "display_name": "Python 3",
   "language": "python",
   "name": "python3"
  },
  "language_info": {
   "codemirror_mode": {
    "name": "ipython",
    "version": 3
   },
   "file_extension": ".py",
   "mimetype": "text/x-python",
   "name": "python",
   "nbconvert_exporter": "python",
   "pygments_lexer": "ipython3",
   "version": "3.8.8"
  }
 },
 "nbformat": 4,
 "nbformat_minor": 5
}
