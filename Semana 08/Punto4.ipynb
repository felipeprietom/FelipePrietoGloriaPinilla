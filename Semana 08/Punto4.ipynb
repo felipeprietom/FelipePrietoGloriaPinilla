{
 "cells": [
  {
   "cell_type": "code",
   "execution_count": 9,
   "metadata": {},
   "outputs": [],
   "source": [
    "import numpy as np\n",
    "import matplotlib.pyplot as plt\n",
    "from matplotlib import rc\n",
    "from mpl_toolkits.mplot3d import axes3d\n",
    "from matplotlib import cm\n",
    "import matplotlib as mpl\n",
    "import matplotlib.animation as animation\n",
    "from tqdm import tqdm"
   ]
  },
  {
   "cell_type": "code",
   "execution_count": 18,
   "metadata": {},
   "outputs": [],
   "source": [
    "#parametros \n",
    "v0 = 1\n",
    "nu = 0.2\n",
    "N = 51\n",
    "h = 0.02\n",
    "omega = 0.9\n",
    "\n",
    "#lims\n",
    "xmax = 25\n",
    "xmin = 5\n",
    "ymax = 30\n",
    "ymin = 5\n",
    "\n",
    "\n"
   ]
  },
  {
   "cell_type": "code",
   "execution_count": 11,
   "metadata": {},
   "outputs": [],
   "source": [
    "x = np.linspace(0., 1., N)\n",
    "y = np.linspace(0., 1., N)\n"
   ]
  },
  {
   "cell_type": "code",
   "execution_count": 12,
   "metadata": {},
   "outputs": [
    {
     "name": "stdout",
     "output_type": "stream",
     "text": [
      "0.02\n"
     ]
    }
   ],
   "source": [
    "h = (1. - 0.) / (N-1)\n",
    "R = v0*h/nu\n",
    "\n",
    "print(h)"
   ]
  },
  {
   "cell_type": "code",
   "execution_count": 13,
   "metadata": {},
   "outputs": [],
   "source": [
    "u = np.zeros((N, N))\n",
    "w = np.zeros((N, N))\n"
   ]
  },
  {
   "cell_type": "code",
   "execution_count": 14,
   "metadata": {},
   "outputs": [],
   "source": [
    "def LimitesCurrent():\n",
    "    \n",
    "    for i in range(len(y)):\n",
    "        #right \n",
    "        u[-1,i] = u[-2,i]\n",
    "        #left\n",
    "        u[1,i] = u[0,i]\n",
    "        #top\n",
    "        u[i,-1] = u[i,-2] + v0*h*y[-1]\n",
    "        #bottom\n",
    "        u[i,0] = 0\n",
    "\n",
    "\n",
    "def LimitesVorticity():\n",
    "    \n",
    "    for i in range(len(y)):\n",
    "        #right \n",
    "        w[-1,i] = u[-2,i]\n",
    "        #left\n",
    "        u[0,i] = 0\n",
    "        #top\n",
    "        u[i,-1] = 0\n",
    "        #bottom\n",
    "        u[i,0] = 0\n",
    "        \n",
    "\n",
    "def LimitesObjetoCurrent():\n",
    "    \n",
    "    for i in range(xmin , xmax + 1):\n",
    "        for j in range(ymin, ymax + 1):\n",
    "            #right \n",
    "            u[xmax,j] = 0\n",
    "            #left\n",
    "            u[xmin,j] = 0\n",
    "            #top\n",
    "            u[i,ymax] = 0\n",
    "            #bottom\n",
    "            u[i,ymin] = 0\n",
    "  "
   ]
  },
  {
   "cell_type": "code",
   "execution_count": 15,
   "metadata": {},
   "outputs": [],
   "source": [
    "def LimitesObjetoVorticity():\n",
    "    \n",
    "    for i in range(ymin,ymax+1):\n",
    "        #left\n",
    "        w[xmin,i] = (-2/(h**2)) * (u[xmin+1,i]-u[xmin,i])\n",
    "        #right\n",
    "        w[xmax,i] = (-2/(h**2)) * (u[xmax-1,i]-u[xmin,i])\n",
    "   \n",
    "    for i in range(xmin, xmax + 1):\n",
    "        #top\n",
    "        w[i,ymax] = (-2/(h**2)) * (u[i,ymax-1]-u[i,ymax])\n",
    "        #bottom\n",
    "        w[i,ymin] = (-2/(h**2)) * (u[i,ymin+1]-u[i,ymin])\n",
    "        \n"
   ]
  },
  {
   "cell_type": "code",
   "execution_count": 29,
   "metadata": {},
   "outputs": [],
   "source": [
    "def GetRelaxation():\n",
    "    \n",
    "    for it in tqdm(range(100)):\n",
    "        \n",
    "        #corro mis fun\n",
    "        LimitesCurrent()\n",
    "        LimitesVorticity()\n",
    "        LimitesObjetoCurrent()\n",
    "        LimitesObjetoVorticity()\n",
    "\n",
    "        for i in range(1,len(x)-1):\n",
    "            for j in range(1,len(y)-1):\n",
    "                \n",
    "                if ( i<(xmax-1) and i>(xmin+1) and j<(ymax-1) and i>(xmin+1)):\n",
    "                    u[i,j]=0\n",
    "                    w[i,j]=0\n",
    "                \n",
    "                else:\n",
    "                    suma = u[i+1,j] + u[i-1,j] + u[i,j+1] + u[i,j-1] + ((h**2*w[i,j]))\n",
    "                    relaxationU = 1/4 * suma\n",
    "                    rU = omega*(relaxationU - u[i,j])\n",
    "                    u[i,j] += rU\n",
    "                    \n",
    "                    sumaw = w[i+1,j] + w[i-1,j] + w[i,j+1] + w[i,j-1] \\\n",
    "                                           - (0.0625*R)*(((u[i,j+1] - u[i,j-1])*(w[i+1,j]- w[i-1,j])) \\\n",
    "                                                         - ((u[i+1,j] - u[i-1,j])*(w[i,j+1] - w[i,j-1])))\n",
    "                    relaxationW = 1/4 * sumaw\n",
    "                    rW = omega*(relaxationW - w[i,j])\n",
    "                    w[i, j] += rW\n",
    "                            \n",
    "            "
   ]
  },
  {
   "cell_type": "code",
   "execution_count": 30,
   "metadata": {},
   "outputs": [
    {
     "name": "stderr",
     "output_type": "stream",
     "text": [
      "100%|██████████| 100/100 [00:01<00:00, 65.01it/s]\n"
     ]
    }
   ],
   "source": [
    "GetRelaxation()"
   ]
  },
  {
   "cell_type": "code",
   "execution_count": 31,
   "metadata": {},
   "outputs": [
    {
     "name": "stderr",
     "output_type": "stream",
     "text": [
      "/srv/conda/envs/notebook/lib/python3.6/site-packages/ipykernel_launcher.py:4: UserWarning: No contour levels were found within the data range.\n",
      "  after removing the cwd from sys.path.\n"
     ]
    },
    {
     "data": {
      "image/png": "[encoded data removed]",
      "text/plain": [
       "<Figure size 432x288 with 1 Axes>"
      ]
     },
     "metadata": {
      "needs_background": "light"
     },
     "output_type": "display_data"
    }
   ],
   "source": [
    "fig1 = plt.figure()\n",
    "ax1 = fig1.add_subplot(1,1,1)\n",
    "ejex,ejey = np.meshgrid(x,y)\n",
    "c1 = ax1.contour(ejex,ejey, u.T, 20, cmap = \"RdGy\")"
   ]
  },
  {
   "cell_type": "code",
   "execution_count": 32,
   "metadata": {},
   "outputs": [
    {
     "data": {
      "image/png": "[encoded data removed]",
      "text/plain": [
       "<Figure size 432x288 with 1 Axes>"
      ]
     },
     "metadata": {
      "needs_background": "light"
     },
     "output_type": "display_data"
    }
   ],
   "source": [
    "fig2 = plt.figure()\n",
    "ax2 = fig2.add_subplot(1,1,1)\n",
    "c2 = ax2.contourf(ejex,ejey, w.T, 20, cmap = \"RdGy\")\n"
   ]
  },
  {
   "cell_type": "code",
   "execution_count": 33,
   "metadata": {},
   "outputs": [],
   "source": [
    "vx = np.zeros((N, N))\n",
    "vy = np.zeros((N, N))\n",
    "\n",
    "for i in range(1, len(x) - 1):\n",
    "    for j in range(1, len(y) - 1):\n",
    "        vx[i,j] = (u.T[i+1,j] - u.T[i-1,j])/(2*h)\n",
    "        vy[i,j] = -(u.T[i,j+1] - u.T[i,j-1])/(2*h)"
   ]
  },
  {
   "cell_type": "code",
   "execution_count": 34,
   "metadata": {},
   "outputs": [
    {
     "data": {
      "image/png": "[encoded data removed]",
      "text/plain": [
       "<Figure size 432x288 with 1 Axes>"
      ]
     },
     "metadata": {
      "needs_background": "light"
     },
     "output_type": "display_data"
    }
   ],
   "source": [
    "fig3 = plt.figure()\n",
    "ax3 = fig3.add_subplot(1,1,1)\n",
    "\n",
    "strm = plt.streamplot(ejex, ejey, vx, vy, density = 1.0)"
   ]
  },
  {
   "cell_type": "code",
   "execution_count": null,
   "metadata": {},
   "outputs": [],
   "source": []
  }
 ],
 "metadata": {
  "kernelspec": {
   "display_name": "Python 3",
   "language": "python",
   "name": "python3"
  },
  "language_info": {
   "codemirror_mode": {
    "name": "ipython",
    "version": 3
   },
   "file_extension": ".py",
   "mimetype": "text/x-python",
   "name": "python",
   "nbconvert_exporter": "python",
   "pygments_lexer": "ipython3",
   "version": "3.6.15"
  }
 },
 "nbformat": 4,
 "nbformat_minor": 2
}
